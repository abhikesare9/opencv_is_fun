{
 "cells": [
  {
   "cell_type": "code",
   "execution_count": 1,
   "id": "99b14bdc",
   "metadata": {},
   "outputs": [],
   "source": [
    "import cv2 as cv\n",
    "import numpy as np"
   ]
  },
  {
   "cell_type": "code",
   "execution_count": 2,
   "id": "1a70f346",
   "metadata": {},
   "outputs": [],
   "source": [
    "lab=cv.imread(\"lad puppy.jpg\")\n",
    "small=cv.imread(\"small dog.jpg\")"
   ]
  },
  {
   "cell_type": "code",
   "execution_count": 3,
   "id": "39f69314",
   "metadata": {},
   "outputs": [
    {
     "data": {
      "text/plain": [
       "(259, 194, 3)"
      ]
     },
     "execution_count": 3,
     "metadata": {},
     "output_type": "execute_result"
    }
   ],
   "source": [
    "lab.shape"
   ]
  },
  {
   "cell_type": "code",
   "execution_count": 4,
   "id": "31c870a7",
   "metadata": {},
   "outputs": [
    {
     "data": {
      "text/plain": [
       "(183, 275, 3)"
      ]
     },
     "execution_count": 4,
     "metadata": {},
     "output_type": "execute_result"
    }
   ],
   "source": [
    "small.shape"
   ]
  },
  {
   "cell_type": "code",
   "execution_count": 5,
   "id": "9eca375e",
   "metadata": {},
   "outputs": [],
   "source": [
    "cv.imshow(\"lab\",lab)\n",
    "cv.imshow(\"small\",small)\n",
    "cv.waitKey()\n",
    "cv.destroyAllWindows()"
   ]
  },
  {
   "cell_type": "code",
   "execution_count": 6,
   "id": "cddd22b8",
   "metadata": {},
   "outputs": [],
   "source": [
    "lab_crop = lab[:183,:]\n"
   ]
  },
  {
   "cell_type": "code",
   "execution_count": 7,
   "id": "6ab9b17e",
   "metadata": {},
   "outputs": [],
   "source": [
    "attach = np.hstack((small,lab_crop))"
   ]
  },
  {
   "cell_type": "code",
   "execution_count": 8,
   "id": "fbb1bad2",
   "metadata": {},
   "outputs": [],
   "source": [
    "cv.imshow(\"HORIZONTAL-COLLAGE\",attach)\n",
    "cv.waitKey()\n",
    "cv.destroyAllWindows()"
   ]
  },
  {
   "cell_type": "code",
   "execution_count": null,
   "id": "584eed9a",
   "metadata": {},
   "outputs": [],
   "source": []
  }
 ],
 "metadata": {
  "kernelspec": {
   "display_name": "Python 3",
   "language": "python",
   "name": "python3"
  },
  "language_info": {
   "codemirror_mode": {
    "name": "ipython",
    "version": 3
   },
   "file_extension": ".py",
   "mimetype": "text/x-python",
   "name": "python",
   "nbconvert_exporter": "python",
   "pygments_lexer": "ipython3",
   "version": "3.6.13"
  }
 },
 "nbformat": 4,
 "nbformat_minor": 5
}
